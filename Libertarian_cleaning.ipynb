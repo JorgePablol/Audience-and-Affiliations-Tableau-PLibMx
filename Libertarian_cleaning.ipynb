{
  "nbformat": 4,
  "nbformat_minor": 0,
  "metadata": {
    "colab": {
      "name": "Libertarian cleaning.ipynb",
      "provenance": [],
      "collapsed_sections": [
        "Dpofb-HHTjcY",
        "nUD2pXuHTtI_",
        "cquFLNdYTwtI",
        "UACbd3WcgiBL",
        "BkB6MY1Xgaqz",
        "8LXFzYjRgnQu"
      ]
    },
    "kernelspec": {
      "name": "python3",
      "display_name": "Python 3"
    }
  },
  "cells": [
    {
      "cell_type": "code",
      "metadata": {
        "id": "GbVJ2cozoRWW"
      },
      "source": [
        "import pandas as pd\n",
        "import numpy as np\n",
        "import matplotlib.pyplot as plt\n",
        "import datetime\n",
        "import os\n",
        "import re\n",
        "\n",
        "pd.set_option('display.max_rows', 10000000)\n",
        "#Importing the relevant libraries for the project"
      ],
      "execution_count": null,
      "outputs": []
    },
    {
      "cell_type": "code",
      "metadata": {
        "id": "eg2pSY7guffm"
      },
      "source": [
        "def path_finder(date):\n",
        "    #this function will find the day of the week according to the day year and month\n",
        "    #the purpose is to be able to find what day has more activity.\n",
        "    day_name = ['Lunes','Martes','Miercoles','Jueves','Viernes','Sabado','Domingo']\n",
        "    date = str(date)\n",
        "    day = datetime.datetime.strptime(date, '%Y-%m-%d').weekday()\n",
        "    day_found = day_name[day]\n",
        "    return day_found\n",
        "\n",
        "\n",
        "def twitter_cleaner(mes):\n",
        "    #this function will clean completely the dataset given by twitter when you download by tweet.\n",
        "    dataset = pd.read_csv('{}.csv'.format(mes)) #Reading the file\n",
        "    mes = str(mes)\n",
        "    dataset = pd.DataFrame(dataset) #Making sure the dataset is on a pandas DataFrame object type\n",
        "    dataset['hora']=pd.to_datetime(dataset['hora']) # Changing feature content type\n",
        "    dataset.drop(['ID del Tweet', 'impresiones promocionado',\n",
        " 'interacciones promocionado',\n",
        " 'tasa de interacción promocionado',\n",
        " 'retweets promocionado',\n",
        " 'respuestas promocionado',\n",
        " 'me gusta promocionado',\n",
        " 'clics de perfil de usuario promocionado',\n",
        " 'clics en URL promocionado',\n",
        " 'clics de etiquetas promocionado',\n",
        " 'ampliaciones de detalles promocionado',\n",
        " 'clics en enlaces permanentes promocionado',\n",
        " 'Se abre la aplicación promocionado',\n",
        " 'descargas de app promocionado',\n",
        " 'seguimientos promocionado',\n",
        " 'enviar Tweet por correo electrónico promocionado',\n",
        " 'marcar teléfono promocionado',\n",
        " 'visualizaciones multimedia promocionado',\n",
        " 'interacciones con el contenido multimedia promocionado',\n",
        " 'Se abre la aplicación', 'descargas de app',\n",
        " 'enviar Tweet por correo electrónico', 'marcar teléfono', 'seguimientos', 'clics en enlaces permanentes'], axis=1, inplace=True) # Dropping not relevant columns\n",
        " \n",
        "    dataset.columns = ['Enlace permanente de Tweet','Texto del Tweet', 'Hora', 'impresiones', 'interacciones',\n",
        "       'tasa de interacción en %', 'retweets', 'respuestas', 'me gusta',\n",
        "       'clics de perfil de usuario', 'clics en URL', 'clics de etiquetas',\n",
        "       'ampliaciones de detalles', 'visualizaciones multimedia',\n",
        "       'interacciones con el contenido multimedia']#changing the name of some columns\n",
        "    dataset['tasa de interacción en %'] =  dataset['tasa de interacción en %'].apply(lambda x: x*100) #Engineering the columns so we can see it on percentage\n",
        "    dataset['tasa de interacción en %'] = np.round(dataset['tasa de interacción en %'],2) #A simple rounding, too many decimals.\n",
        "\n",
        "    list_to_integer = [\n",
        "              'impresiones', 'interacciones','retweets', 'respuestas', 'me gusta',\n",
        "       'clics de perfil de usuario', 'clics en URL', 'clics de etiquetas',\n",
        "       'ampliaciones de detalles'] #Im too lazy to change those columns to integer one by one\n",
        "    for name in list_to_integer:\n",
        "        dataset[name] = np.int64(dataset[name])#changing the column to integer\n",
        "\n",
        "    dataset['Fecha'] = dataset['Hora'].apply(str).copy()\n",
        "    \n",
        "    for i in range(0, int(dataset['Fecha'].shape[0])):\n",
        "        dataset['Fecha'][i] = dataset['Fecha'][i][:10] #Fechas means date, and the actual kind of date I want is only with Year, month and day, not with those weird numbers it had.\n",
        "\n",
        "    dataset['Dia'] = dataset['Fecha'].copy()\n",
        "    dataset['Dia'] = dataset['Dia'].apply(lambda x: path_finder(x))#Implementing the path finder function previously described\n",
        "\n",
        "    dataset['Fecha'] =pd.to_datetime(dataset['Fecha'])\n",
        "    \n",
        "    #dataset['Fecha'] = dataset['Fecha'].apply(pd.to_datetime)\n",
        "    #dataset['hora'] = pd.to_datetime(dataset['hora'], format='%H%M')\n",
        "    dataset['Hora'] = dataset['Hora'].apply(str) #Changing hora feature to string it was datetime\n",
        "    e = list(dataset['Hora'].values)\n",
        "    for i in range(0, len(e)):#This for will engineer the hora feature so the values will be two integers like 14, 14 hours of course.\n",
        "        e[i] = e[i][11:13] \n",
        "    dataset['Hora'] = e\n",
        "    dataset['Hora'] = np.int64(dataset['Hora'])\n",
        "    #dataset['Hora'] = pd.Timestamp(dataset['Hora'], unit='h')\n",
        "    dataset = dataset[['Texto del Tweet',\n",
        "        'Fecha',\n",
        "        'Dia',\n",
        "        'Hora',\n",
        "        'impresiones',\n",
        "        'interacciones',\n",
        "        'tasa de interacción en %',\n",
        "        'retweets',\n",
        "        'respuestas',\n",
        "        'me gusta',\n",
        "        'clics de perfil de usuario',\n",
        "        'clics en URL',\n",
        "        'clics de etiquetas',\n",
        "        'ampliaciones de detalles',\n",
        "        'visualizaciones multimedia',\n",
        "        'interacciones con el contenido multimedia']] #making sure the features I want will be in the final result file\n",
        "     \n",
        "    dataset.to_csv('{}_clean.csv'.format(mes), encoding='utf-8', index=False) #Saving the engineering.\n",
        "    round(dataset.describe(),2).to_csv('{}_described_clean.csv'.format(mes), encoding='utf-8', index=True) #A quick statistical description for the numeric values and saving it.\n",
        "\n",
        "def fb_cleaner_alcance(name): #Short function to engineer the date column for facebook content data\n",
        "    df = pd.read_csv('{}.csv'.format(name), encoding='utf-8')\n",
        "    df['Fecha'] = df['Fecha'].apply(lambda x: x[0:10])\n",
        "    df.to_csv('{}_clean.csv'.format(name), encoding='utf-8', index=False)\n",
        "\n",
        "\n",
        "def fb_cleaner_contenido(name): #Short function to drop not relevant columns and engineering the hour columns, and saving it immediately\n",
        "    df = pd.read_csv('{}.csv'.format(name), encoding='utf-8')\n",
        "    try:\n",
        "        df = df.drop(columns=['Resultados','Costo por resultado'])\n",
        "    except Exception:\n",
        "        pass\n",
        "    df['Hora de publicación'] = df['Hora de publicación'].astype(str)\n",
        "    df['Hora de publicación'] = df['Hora de publicación'].apply(lambda x: x[0:10])\n",
        "    df['Dia'] = df['Hora de publicación'].copy()\n",
        "    df['Dia'] = df['Dia'].apply(lambda x: path_finder(x))\n",
        "\n",
        "    df.to_csv('{}_clean.csv'.format(name), encoding='utf-8', index=False)\n",
        "    round(df.describe(),2).to_csv('{}_described.csv'.format(name))\n",
        "\n",
        "def tiktok_overall(name):\n",
        "    df = pd.read_csv('{}.csv'.format(name), encoding='utf-8')\n",
        "    df['Dia'] = df['Fecha'].copy()\n",
        "    df['Dia'] = df['Dia'].apply(lambda x: path_finder(x))\n",
        "    df.to_csv('{}_clean.csv'.format(name), encoding='utf-8', index=False)\n",
        "    round(df.describe(),2).to_csv('{}_described.csv'.format(name))\n"
      ],
      "execution_count": null,
      "outputs": []
    },
    {
      "cell_type": "markdown",
      "metadata": {
        "id": "Dpofb-HHTjcY"
      },
      "source": [
        "# Twitter: actualizando dataset historico"
      ]
    },
    {
      "cell_type": "code",
      "metadata": {
        "id": "CXi09VcS5AT9"
      },
      "source": [
        "#Twitter\n",
        "df_new = pd.read_csv('Twitter_Mayo_clean.csv', encoding='utf-8')\n",
        "df_old = pd.read_csv('historical_twitter_raw_clean.csv', encoding='utf-8')\n",
        "df_update = pd.concat([df_old, df_new], sort=False)\n",
        "df_update.to_csv('twitter historical_updated 05 2021.csv', index=False, encoding='utf-8',)"
      ],
      "execution_count": null,
      "outputs": []
    },
    {
      "cell_type": "markdown",
      "metadata": {
        "id": "nUD2pXuHTtI_"
      },
      "source": [
        "# Facebook: Actualizando dataset historico"
      ]
    },
    {
      "cell_type": "code",
      "metadata": {
        "id": "YpuXbyfn89Dm"
      },
      "source": [
        "#Facebook\n",
        "df_nuevo = pd.read_csv('Fb_Contenido_clean.csv', encoding='utf-8')\n",
        "df_viejo = pd.read_csv('FB_historical_clean.csv', encoding='utf-8')\n",
        "df_actual = pd.concat([df_viejo,df_nuevo], sort=False)\n",
        "df_actual.to_csv('fb_historical_updated 05 2021.csv', index=False, encoding='utf-8')"
      ],
      "execution_count": null,
      "outputs": []
    },
    {
      "cell_type": "markdown",
      "metadata": {
        "id": "cquFLNdYTwtI"
      },
      "source": [
        "# TikTok: Actualizando dataset historico"
      ]
    },
    {
      "cell_type": "code",
      "metadata": {
        "id": "DjolCx8hAFy0"
      },
      "source": [
        "#TikTok\n",
        "df_mes = pd.read_csv('TikTok_Mayo_clean.csv')\n",
        "df_hist = pd.read_csv('tiktok_overall_clean.csv')\n",
        "df_act = pd.concat([df_hist,df_mes], sort=False)\n",
        "df_act.to_csv('tiktok_historical_updated 05 2021.csv', index=False, encoding='utf-8')"
      ],
      "execution_count": null,
      "outputs": []
    },
    {
      "cell_type": "markdown",
      "metadata": {
        "id": "UACbd3WcgiBL"
      },
      "source": [
        "# Concatenando Twitter data historica"
      ]
    },
    {
      "cell_type": "code",
      "metadata": {
        "id": "nE8ieZFhZx4O",
        "colab": {
          "base_uri": "https://localhost:8080/",
          "height": 387
        },
        "outputId": "0ac3858c-f2b5-4e3c-d65e-7d4f24fcbfd2"
      },
      "source": [
        "\n",
        "#os.listdir('.')\n",
        "months = [\n",
        " 'twitter sep 2020.csv',\n",
        " 'twitter feb 2021.csv',\n",
        " 'twitter ene 2021.csv',\n",
        " 'twitter dic 2020.csv',\n",
        " 'twitter oct 2020.csv',\n",
        " 'twittter nov 2020.csv',\n",
        " 'twitter abr 2021.csv',\n",
        " 'twitter mar 2021.csv']\n",
        "\n",
        "df_ene = pd.read_csv('twitter ene 2021.csv', encoding='utf-8')\n",
        "df_dic = pd.read_csv('twitter dic 2020.csv', encoding='utf-8')\n",
        "df_nov = pd.read_csv('twittter nov 2020.csv', encoding='utf-8')\n",
        "df_sep = pd.read_csv('twitter sep 2020.csv', encoding='utf-8')\n",
        "df_oct = pd.read_csv('twitter oct 2020.csv', encoding='utf-8')\n",
        "df_feb = pd.read_csv('twitter feb 2021.csv', encoding='utf-8')\n",
        "df_mar = pd.read_csv('twitter mar 2021.csv', encoding='utf-8')\n",
        "df_abr = pd.read_csv('twitter abr 2021.csv', encoding='utf-8')\n",
        "\n",
        "\n",
        "historical_twitter = pd.concat([df_sep,\n",
        "                                 df_oct,\n",
        "                                 df_nov,\n",
        "                                 df_dic,\n",
        "                                 df_ene,\n",
        "                                 df_feb,\n",
        "                                 df_mar,\n",
        "                                 df_abr], sort=False)\n",
        "historical_twitter.to_csv('historical_twitter_raw.csv', index=False, encoding='utf-8')\n",
        "twitter_cleaner('historical_twitter_raw')\n",
        "\n",
        "\"\"\"\n",
        "#historical_twitter.dropna(axis=0,how='any', subset=['Hora de publicación'], inplace=True)\n",
        "#removing NAs\n",
        "\n",
        "#fb_cleaner_contenido('FB_Sep2020_Abr2021_RAW')\n",
        "#df_historic = pd.read_csv('FB_Sep2020_Abr2021_RAW_clean.csv',encoding='utf-8')\n",
        "#sep_abr_2021 = pd.concat([df_historic, df_abr], sort=False)\n",
        "#sep_abr_2021.to_csv('FB_historical.csv',encoding='utf-8', index=False)\n",
        "#fb_cleaner_contenido('FB_historical')\n",
        "\"\"\""
      ],
      "execution_count": null,
      "outputs": [
        {
          "output_type": "error",
          "ename": "KeyError",
          "evalue": "ignored",
          "traceback": [
            "\u001b[0;31m---------------------------------------------------------------------------\u001b[0m",
            "\u001b[0;31mKeyError\u001b[0m                                  Traceback (most recent call last)",
            "\u001b[0;32m<ipython-input-9-3957de3e13c3>\u001b[0m in \u001b[0;36m<module>\u001b[0;34m()\u001b[0m\n\u001b[1;32m     30\u001b[0m                                  df_abr], sort=False)\n\u001b[1;32m     31\u001b[0m \u001b[0mhistorical_twitter\u001b[0m\u001b[0;34m.\u001b[0m\u001b[0mto_csv\u001b[0m\u001b[0;34m(\u001b[0m\u001b[0;34m'historical_twitter_raw.csv'\u001b[0m\u001b[0;34m,\u001b[0m \u001b[0mindex\u001b[0m\u001b[0;34m=\u001b[0m\u001b[0;32mFalse\u001b[0m\u001b[0;34m,\u001b[0m \u001b[0mencoding\u001b[0m\u001b[0;34m=\u001b[0m\u001b[0;34m'utf-8'\u001b[0m\u001b[0;34m)\u001b[0m\u001b[0;34m\u001b[0m\u001b[0;34m\u001b[0m\u001b[0m\n\u001b[0;32m---> 32\u001b[0;31m \u001b[0mtwitter_cleaner\u001b[0m\u001b[0;34m(\u001b[0m\u001b[0;34m'historical_twitter_raw'\u001b[0m\u001b[0;34m)\u001b[0m\u001b[0;34m\u001b[0m\u001b[0;34m\u001b[0m\u001b[0m\n\u001b[0m\u001b[1;32m     33\u001b[0m \u001b[0;34m\u001b[0m\u001b[0m\n\u001b[1;32m     34\u001b[0m \"\"\"\n",
            "\u001b[0;32m<ipython-input-3-4b4009976c9f>\u001b[0m in \u001b[0;36mtwitter_cleaner\u001b[0;34m(mes)\u001b[0m\n\u001b[1;32m     34\u001b[0m  \u001b[0;34m'interacciones con el contenido multimedia promocionado'\u001b[0m\u001b[0;34m,\u001b[0m\u001b[0;34m\u001b[0m\u001b[0;34m\u001b[0m\u001b[0m\n\u001b[1;32m     35\u001b[0m  \u001b[0;34m'Se abre la aplicación'\u001b[0m\u001b[0;34m,\u001b[0m \u001b[0;34m'descargas de app'\u001b[0m\u001b[0;34m,\u001b[0m\u001b[0;34m\u001b[0m\u001b[0;34m\u001b[0m\u001b[0m\n\u001b[0;32m---> 36\u001b[0;31m  'enviar Tweet por correo electrónico', 'marcar teléfono', 'seguimientos', 'clics en enlaces permanentes'], axis=1, inplace=True) # Dropping not relevant columns\n\u001b[0m\u001b[1;32m     37\u001b[0m \u001b[0;34m\u001b[0m\u001b[0m\n\u001b[1;32m     38\u001b[0m     dataset.columns = ['Enlace permanente de Tweet','Texto del Tweet', 'Hora', 'impresiones', 'interacciones',\n",
            "\u001b[0;32m/usr/local/lib/python3.7/dist-packages/pandas/core/frame.py\u001b[0m in \u001b[0;36mdrop\u001b[0;34m(self, labels, axis, index, columns, level, inplace, errors)\u001b[0m\n\u001b[1;32m   4172\u001b[0m             \u001b[0mlevel\u001b[0m\u001b[0;34m=\u001b[0m\u001b[0mlevel\u001b[0m\u001b[0;34m,\u001b[0m\u001b[0;34m\u001b[0m\u001b[0;34m\u001b[0m\u001b[0m\n\u001b[1;32m   4173\u001b[0m             \u001b[0minplace\u001b[0m\u001b[0;34m=\u001b[0m\u001b[0minplace\u001b[0m\u001b[0;34m,\u001b[0m\u001b[0;34m\u001b[0m\u001b[0;34m\u001b[0m\u001b[0m\n\u001b[0;32m-> 4174\u001b[0;31m             \u001b[0merrors\u001b[0m\u001b[0;34m=\u001b[0m\u001b[0merrors\u001b[0m\u001b[0;34m,\u001b[0m\u001b[0;34m\u001b[0m\u001b[0;34m\u001b[0m\u001b[0m\n\u001b[0m\u001b[1;32m   4175\u001b[0m         )\n\u001b[1;32m   4176\u001b[0m \u001b[0;34m\u001b[0m\u001b[0m\n",
            "\u001b[0;32m/usr/local/lib/python3.7/dist-packages/pandas/core/generic.py\u001b[0m in \u001b[0;36mdrop\u001b[0;34m(self, labels, axis, index, columns, level, inplace, errors)\u001b[0m\n\u001b[1;32m   3887\u001b[0m         \u001b[0;32mfor\u001b[0m \u001b[0maxis\u001b[0m\u001b[0;34m,\u001b[0m \u001b[0mlabels\u001b[0m \u001b[0;32min\u001b[0m \u001b[0maxes\u001b[0m\u001b[0;34m.\u001b[0m\u001b[0mitems\u001b[0m\u001b[0;34m(\u001b[0m\u001b[0;34m)\u001b[0m\u001b[0;34m:\u001b[0m\u001b[0;34m\u001b[0m\u001b[0;34m\u001b[0m\u001b[0m\n\u001b[1;32m   3888\u001b[0m             \u001b[0;32mif\u001b[0m \u001b[0mlabels\u001b[0m \u001b[0;32mis\u001b[0m \u001b[0;32mnot\u001b[0m \u001b[0;32mNone\u001b[0m\u001b[0;34m:\u001b[0m\u001b[0;34m\u001b[0m\u001b[0;34m\u001b[0m\u001b[0m\n\u001b[0;32m-> 3889\u001b[0;31m                 \u001b[0mobj\u001b[0m \u001b[0;34m=\u001b[0m \u001b[0mobj\u001b[0m\u001b[0;34m.\u001b[0m\u001b[0m_drop_axis\u001b[0m\u001b[0;34m(\u001b[0m\u001b[0mlabels\u001b[0m\u001b[0;34m,\u001b[0m \u001b[0maxis\u001b[0m\u001b[0;34m,\u001b[0m \u001b[0mlevel\u001b[0m\u001b[0;34m=\u001b[0m\u001b[0mlevel\u001b[0m\u001b[0;34m,\u001b[0m \u001b[0merrors\u001b[0m\u001b[0;34m=\u001b[0m\u001b[0merrors\u001b[0m\u001b[0;34m)\u001b[0m\u001b[0;34m\u001b[0m\u001b[0;34m\u001b[0m\u001b[0m\n\u001b[0m\u001b[1;32m   3890\u001b[0m \u001b[0;34m\u001b[0m\u001b[0m\n\u001b[1;32m   3891\u001b[0m         \u001b[0;32mif\u001b[0m \u001b[0minplace\u001b[0m\u001b[0;34m:\u001b[0m\u001b[0;34m\u001b[0m\u001b[0;34m\u001b[0m\u001b[0m\n",
            "\u001b[0;32m/usr/local/lib/python3.7/dist-packages/pandas/core/generic.py\u001b[0m in \u001b[0;36m_drop_axis\u001b[0;34m(self, labels, axis, level, errors)\u001b[0m\n\u001b[1;32m   3921\u001b[0m                 \u001b[0mnew_axis\u001b[0m \u001b[0;34m=\u001b[0m \u001b[0maxis\u001b[0m\u001b[0;34m.\u001b[0m\u001b[0mdrop\u001b[0m\u001b[0;34m(\u001b[0m\u001b[0mlabels\u001b[0m\u001b[0;34m,\u001b[0m \u001b[0mlevel\u001b[0m\u001b[0;34m=\u001b[0m\u001b[0mlevel\u001b[0m\u001b[0;34m,\u001b[0m \u001b[0merrors\u001b[0m\u001b[0;34m=\u001b[0m\u001b[0merrors\u001b[0m\u001b[0;34m)\u001b[0m\u001b[0;34m\u001b[0m\u001b[0;34m\u001b[0m\u001b[0m\n\u001b[1;32m   3922\u001b[0m             \u001b[0;32melse\u001b[0m\u001b[0;34m:\u001b[0m\u001b[0;34m\u001b[0m\u001b[0;34m\u001b[0m\u001b[0m\n\u001b[0;32m-> 3923\u001b[0;31m                 \u001b[0mnew_axis\u001b[0m \u001b[0;34m=\u001b[0m \u001b[0maxis\u001b[0m\u001b[0;34m.\u001b[0m\u001b[0mdrop\u001b[0m\u001b[0;34m(\u001b[0m\u001b[0mlabels\u001b[0m\u001b[0;34m,\u001b[0m \u001b[0merrors\u001b[0m\u001b[0;34m=\u001b[0m\u001b[0merrors\u001b[0m\u001b[0;34m)\u001b[0m\u001b[0;34m\u001b[0m\u001b[0;34m\u001b[0m\u001b[0m\n\u001b[0m\u001b[1;32m   3924\u001b[0m             \u001b[0mresult\u001b[0m \u001b[0;34m=\u001b[0m \u001b[0mself\u001b[0m\u001b[0;34m.\u001b[0m\u001b[0mreindex\u001b[0m\u001b[0;34m(\u001b[0m\u001b[0;34m**\u001b[0m\u001b[0;34m{\u001b[0m\u001b[0maxis_name\u001b[0m\u001b[0;34m:\u001b[0m \u001b[0mnew_axis\u001b[0m\u001b[0;34m}\u001b[0m\u001b[0;34m)\u001b[0m\u001b[0;34m\u001b[0m\u001b[0;34m\u001b[0m\u001b[0m\n\u001b[1;32m   3925\u001b[0m \u001b[0;34m\u001b[0m\u001b[0m\n",
            "\u001b[0;32m/usr/local/lib/python3.7/dist-packages/pandas/core/indexes/base.py\u001b[0m in \u001b[0;36mdrop\u001b[0;34m(self, labels, errors)\u001b[0m\n\u001b[1;32m   5285\u001b[0m         \u001b[0;32mif\u001b[0m \u001b[0mmask\u001b[0m\u001b[0;34m.\u001b[0m\u001b[0many\u001b[0m\u001b[0;34m(\u001b[0m\u001b[0;34m)\u001b[0m\u001b[0;34m:\u001b[0m\u001b[0;34m\u001b[0m\u001b[0;34m\u001b[0m\u001b[0m\n\u001b[1;32m   5286\u001b[0m             \u001b[0;32mif\u001b[0m \u001b[0merrors\u001b[0m \u001b[0;34m!=\u001b[0m \u001b[0;34m\"ignore\"\u001b[0m\u001b[0;34m:\u001b[0m\u001b[0;34m\u001b[0m\u001b[0;34m\u001b[0m\u001b[0m\n\u001b[0;32m-> 5287\u001b[0;31m                 \u001b[0;32mraise\u001b[0m \u001b[0mKeyError\u001b[0m\u001b[0;34m(\u001b[0m\u001b[0;34mf\"{labels[mask]} not found in axis\"\u001b[0m\u001b[0;34m)\u001b[0m\u001b[0;34m\u001b[0m\u001b[0;34m\u001b[0m\u001b[0m\n\u001b[0m\u001b[1;32m   5288\u001b[0m             \u001b[0mindexer\u001b[0m \u001b[0;34m=\u001b[0m \u001b[0mindexer\u001b[0m\u001b[0;34m[\u001b[0m\u001b[0;34m~\u001b[0m\u001b[0mmask\u001b[0m\u001b[0;34m]\u001b[0m\u001b[0;34m\u001b[0m\u001b[0;34m\u001b[0m\u001b[0m\n\u001b[1;32m   5289\u001b[0m         \u001b[0;32mreturn\u001b[0m \u001b[0mself\u001b[0m\u001b[0;34m.\u001b[0m\u001b[0mdelete\u001b[0m\u001b[0;34m(\u001b[0m\u001b[0mindexer\u001b[0m\u001b[0;34m)\u001b[0m\u001b[0;34m\u001b[0m\u001b[0;34m\u001b[0m\u001b[0m\n",
            "\u001b[0;31mKeyError\u001b[0m: \"['tasa de interacción promocionado' 'Se abre la aplicación promocionado'\\n 'enviar Tweet por correo electrónico promocionado'\\n 'marcar teléfono promocionado' 'Se abre la aplicación'\\n 'enviar Tweet por correo electrónico' 'marcar teléfono'] not found in axis\""
          ]
        }
      ]
    },
    {
      "cell_type": "markdown",
      "metadata": {
        "id": "BkB6MY1Xgaqz"
      },
      "source": [
        "# Concatenando Facebook data historica"
      ]
    },
    {
      "cell_type": "code",
      "metadata": {
        "id": "KRsAo7zVwDgU",
        "colab": {
          "base_uri": "https://localhost:8080/",
          "height": 370
        },
        "outputId": "34f94ed4-49a0-4962-f4df-e7a24a6013b6"
      },
      "source": [
        "os.listdir('.')\n",
        "months = [ 'Facebook_Mar_2021.csv',\n",
        " 'Facebook_Dic_2020.csv',\n",
        " 'Facebook_Oct_2020.csv',\n",
        " 'Facebook_Abril_2021.csv',\n",
        " 'Facebook_Sep_2020.csv',\n",
        " 'Facebook_Feb_2021.csv',\n",
        " 'Facebook_Nov_2020.csv']\n",
        "\n",
        "df_ene = pd.read_csv('Facebook_Ene_2021.csv', encoding='utf-8')\n",
        "df_dic = pd.read_csv('Facebook_Dic_2020.csv', encoding='utf-8')\n",
        "df_nov = pd.read_csv('Facebook_Nov_2020.csv', encoding='utf-8')\n",
        "df_sep = pd.read_csv('Facebook_Sep_2020.csv', encoding='utf-8')\n",
        "df_oct = pd.read_csv('Facebook_Oct_2020.csv', encoding='latin-1')\n",
        "df_feb = pd.read_csv('Facebook_Feb_2021.csv', encoding='latin-1')\n",
        "df_mar = pd.read_csv('Facebook_Mar_2021.csv', encoding='utf-8')\n",
        "df_abr = pd.read_csv('Facebook_Abril_2021.csv', encoding='utf-8')\n",
        "\n",
        "\n",
        "historical_facebook = pd.concat([df_ene,\n",
        "df_dic,\n",
        "df_nov,\n",
        "df_sep,\n",
        "df_oct,\n",
        "df_feb,\n",
        "df_mar], sort=False)\n",
        "historical_facebook.dropna(axis=0,how='any', subset=['Hora de publicación'], inplace=True)\n",
        "#removing NAs\n",
        "\n",
        "fb_cleaner_contenido('FB_Sep2020_Abr2021_RAW')\n",
        "df_historic = pd.read_csv('FB_Sep2020_Abr2021_RAW_clean.csv',encoding='utf-8')\n",
        "sep_abr_2021 = pd.concat([df_historic, df_abr], sort=False)\n",
        "sep_abr_2021.to_csv('FB_historical.csv',encoding='utf-8', index=False)\n",
        "fb_cleaner_contenido('FB_historical')\n",
        "#historical_facebook.to_csv('historical_facebook_sep2020_abr2021.csv', index=False, encoding='utf-8')"
      ],
      "execution_count": null,
      "outputs": [
        {
          "output_type": "error",
          "ename": "FileNotFoundError",
          "evalue": "ignored",
          "traceback": [
            "\u001b[0;31m---------------------------------------------------------------------------\u001b[0m",
            "\u001b[0;31mFileNotFoundError\u001b[0m                         Traceback (most recent call last)",
            "\u001b[0;32m<ipython-input-6-ee64f9eb2e52>\u001b[0m in \u001b[0;36m<module>\u001b[0;34m()\u001b[0m\n\u001b[1;32m      8\u001b[0m  'Facebook_Nov_2020.csv']\n\u001b[1;32m      9\u001b[0m \u001b[0;34m\u001b[0m\u001b[0m\n\u001b[0;32m---> 10\u001b[0;31m \u001b[0mdf_ene\u001b[0m \u001b[0;34m=\u001b[0m \u001b[0mpd\u001b[0m\u001b[0;34m.\u001b[0m\u001b[0mread_csv\u001b[0m\u001b[0;34m(\u001b[0m\u001b[0;34m'Facebook_Ene_2021.csv'\u001b[0m\u001b[0;34m,\u001b[0m \u001b[0mencoding\u001b[0m\u001b[0;34m=\u001b[0m\u001b[0;34m'utf-8'\u001b[0m\u001b[0;34m)\u001b[0m\u001b[0;34m\u001b[0m\u001b[0;34m\u001b[0m\u001b[0m\n\u001b[0m\u001b[1;32m     11\u001b[0m \u001b[0mdf_dic\u001b[0m \u001b[0;34m=\u001b[0m \u001b[0mpd\u001b[0m\u001b[0;34m.\u001b[0m\u001b[0mread_csv\u001b[0m\u001b[0;34m(\u001b[0m\u001b[0;34m'Facebook_Dic_2020.csv'\u001b[0m\u001b[0;34m,\u001b[0m \u001b[0mencoding\u001b[0m\u001b[0;34m=\u001b[0m\u001b[0;34m'utf-8'\u001b[0m\u001b[0;34m)\u001b[0m\u001b[0;34m\u001b[0m\u001b[0;34m\u001b[0m\u001b[0m\n\u001b[1;32m     12\u001b[0m \u001b[0mdf_nov\u001b[0m \u001b[0;34m=\u001b[0m \u001b[0mpd\u001b[0m\u001b[0;34m.\u001b[0m\u001b[0mread_csv\u001b[0m\u001b[0;34m(\u001b[0m\u001b[0;34m'Facebook_Nov_2020.csv'\u001b[0m\u001b[0;34m,\u001b[0m \u001b[0mencoding\u001b[0m\u001b[0;34m=\u001b[0m\u001b[0;34m'utf-8'\u001b[0m\u001b[0;34m)\u001b[0m\u001b[0;34m\u001b[0m\u001b[0;34m\u001b[0m\u001b[0m\n",
            "\u001b[0;32m/usr/local/lib/python3.7/dist-packages/pandas/io/parsers.py\u001b[0m in \u001b[0;36mread_csv\u001b[0;34m(filepath_or_buffer, sep, delimiter, header, names, index_col, usecols, squeeze, prefix, mangle_dupe_cols, dtype, engine, converters, true_values, false_values, skipinitialspace, skiprows, skipfooter, nrows, na_values, keep_default_na, na_filter, verbose, skip_blank_lines, parse_dates, infer_datetime_format, keep_date_col, date_parser, dayfirst, cache_dates, iterator, chunksize, compression, thousands, decimal, lineterminator, quotechar, quoting, doublequote, escapechar, comment, encoding, dialect, error_bad_lines, warn_bad_lines, delim_whitespace, low_memory, memory_map, float_precision)\u001b[0m\n\u001b[1;32m    686\u001b[0m     )\n\u001b[1;32m    687\u001b[0m \u001b[0;34m\u001b[0m\u001b[0m\n\u001b[0;32m--> 688\u001b[0;31m     \u001b[0;32mreturn\u001b[0m \u001b[0m_read\u001b[0m\u001b[0;34m(\u001b[0m\u001b[0mfilepath_or_buffer\u001b[0m\u001b[0;34m,\u001b[0m \u001b[0mkwds\u001b[0m\u001b[0;34m)\u001b[0m\u001b[0;34m\u001b[0m\u001b[0;34m\u001b[0m\u001b[0m\n\u001b[0m\u001b[1;32m    689\u001b[0m \u001b[0;34m\u001b[0m\u001b[0m\n\u001b[1;32m    690\u001b[0m \u001b[0;34m\u001b[0m\u001b[0m\n",
            "\u001b[0;32m/usr/local/lib/python3.7/dist-packages/pandas/io/parsers.py\u001b[0m in \u001b[0;36m_read\u001b[0;34m(filepath_or_buffer, kwds)\u001b[0m\n\u001b[1;32m    452\u001b[0m \u001b[0;34m\u001b[0m\u001b[0m\n\u001b[1;32m    453\u001b[0m     \u001b[0;31m# Create the parser.\u001b[0m\u001b[0;34m\u001b[0m\u001b[0;34m\u001b[0m\u001b[0;34m\u001b[0m\u001b[0m\n\u001b[0;32m--> 454\u001b[0;31m     \u001b[0mparser\u001b[0m \u001b[0;34m=\u001b[0m \u001b[0mTextFileReader\u001b[0m\u001b[0;34m(\u001b[0m\u001b[0mfp_or_buf\u001b[0m\u001b[0;34m,\u001b[0m \u001b[0;34m**\u001b[0m\u001b[0mkwds\u001b[0m\u001b[0;34m)\u001b[0m\u001b[0;34m\u001b[0m\u001b[0;34m\u001b[0m\u001b[0m\n\u001b[0m\u001b[1;32m    455\u001b[0m \u001b[0;34m\u001b[0m\u001b[0m\n\u001b[1;32m    456\u001b[0m     \u001b[0;32mif\u001b[0m \u001b[0mchunksize\u001b[0m \u001b[0;32mor\u001b[0m \u001b[0miterator\u001b[0m\u001b[0;34m:\u001b[0m\u001b[0;34m\u001b[0m\u001b[0;34m\u001b[0m\u001b[0m\n",
            "\u001b[0;32m/usr/local/lib/python3.7/dist-packages/pandas/io/parsers.py\u001b[0m in \u001b[0;36m__init__\u001b[0;34m(self, f, engine, **kwds)\u001b[0m\n\u001b[1;32m    946\u001b[0m             \u001b[0mself\u001b[0m\u001b[0;34m.\u001b[0m\u001b[0moptions\u001b[0m\u001b[0;34m[\u001b[0m\u001b[0;34m\"has_index_names\"\u001b[0m\u001b[0;34m]\u001b[0m \u001b[0;34m=\u001b[0m \u001b[0mkwds\u001b[0m\u001b[0;34m[\u001b[0m\u001b[0;34m\"has_index_names\"\u001b[0m\u001b[0;34m]\u001b[0m\u001b[0;34m\u001b[0m\u001b[0;34m\u001b[0m\u001b[0m\n\u001b[1;32m    947\u001b[0m \u001b[0;34m\u001b[0m\u001b[0m\n\u001b[0;32m--> 948\u001b[0;31m         \u001b[0mself\u001b[0m\u001b[0;34m.\u001b[0m\u001b[0m_make_engine\u001b[0m\u001b[0;34m(\u001b[0m\u001b[0mself\u001b[0m\u001b[0;34m.\u001b[0m\u001b[0mengine\u001b[0m\u001b[0;34m)\u001b[0m\u001b[0;34m\u001b[0m\u001b[0;34m\u001b[0m\u001b[0m\n\u001b[0m\u001b[1;32m    949\u001b[0m \u001b[0;34m\u001b[0m\u001b[0m\n\u001b[1;32m    950\u001b[0m     \u001b[0;32mdef\u001b[0m \u001b[0mclose\u001b[0m\u001b[0;34m(\u001b[0m\u001b[0mself\u001b[0m\u001b[0;34m)\u001b[0m\u001b[0;34m:\u001b[0m\u001b[0;34m\u001b[0m\u001b[0;34m\u001b[0m\u001b[0m\n",
            "\u001b[0;32m/usr/local/lib/python3.7/dist-packages/pandas/io/parsers.py\u001b[0m in \u001b[0;36m_make_engine\u001b[0;34m(self, engine)\u001b[0m\n\u001b[1;32m   1178\u001b[0m     \u001b[0;32mdef\u001b[0m \u001b[0m_make_engine\u001b[0m\u001b[0;34m(\u001b[0m\u001b[0mself\u001b[0m\u001b[0;34m,\u001b[0m \u001b[0mengine\u001b[0m\u001b[0;34m=\u001b[0m\u001b[0;34m\"c\"\u001b[0m\u001b[0;34m)\u001b[0m\u001b[0;34m:\u001b[0m\u001b[0;34m\u001b[0m\u001b[0;34m\u001b[0m\u001b[0m\n\u001b[1;32m   1179\u001b[0m         \u001b[0;32mif\u001b[0m \u001b[0mengine\u001b[0m \u001b[0;34m==\u001b[0m \u001b[0;34m\"c\"\u001b[0m\u001b[0;34m:\u001b[0m\u001b[0;34m\u001b[0m\u001b[0;34m\u001b[0m\u001b[0m\n\u001b[0;32m-> 1180\u001b[0;31m             \u001b[0mself\u001b[0m\u001b[0;34m.\u001b[0m\u001b[0m_engine\u001b[0m \u001b[0;34m=\u001b[0m \u001b[0mCParserWrapper\u001b[0m\u001b[0;34m(\u001b[0m\u001b[0mself\u001b[0m\u001b[0;34m.\u001b[0m\u001b[0mf\u001b[0m\u001b[0;34m,\u001b[0m \u001b[0;34m**\u001b[0m\u001b[0mself\u001b[0m\u001b[0;34m.\u001b[0m\u001b[0moptions\u001b[0m\u001b[0;34m)\u001b[0m\u001b[0;34m\u001b[0m\u001b[0;34m\u001b[0m\u001b[0m\n\u001b[0m\u001b[1;32m   1181\u001b[0m         \u001b[0;32melse\u001b[0m\u001b[0;34m:\u001b[0m\u001b[0;34m\u001b[0m\u001b[0;34m\u001b[0m\u001b[0m\n\u001b[1;32m   1182\u001b[0m             \u001b[0;32mif\u001b[0m \u001b[0mengine\u001b[0m \u001b[0;34m==\u001b[0m \u001b[0;34m\"python\"\u001b[0m\u001b[0;34m:\u001b[0m\u001b[0;34m\u001b[0m\u001b[0;34m\u001b[0m\u001b[0m\n",
            "\u001b[0;32m/usr/local/lib/python3.7/dist-packages/pandas/io/parsers.py\u001b[0m in \u001b[0;36m__init__\u001b[0;34m(self, src, **kwds)\u001b[0m\n\u001b[1;32m   1991\u001b[0m         \u001b[0;32mif\u001b[0m \u001b[0mkwds\u001b[0m\u001b[0;34m.\u001b[0m\u001b[0mget\u001b[0m\u001b[0;34m(\u001b[0m\u001b[0;34m\"compression\"\u001b[0m\u001b[0;34m)\u001b[0m \u001b[0;32mis\u001b[0m \u001b[0;32mNone\u001b[0m \u001b[0;32mand\u001b[0m \u001b[0mencoding\u001b[0m\u001b[0;34m:\u001b[0m\u001b[0;34m\u001b[0m\u001b[0;34m\u001b[0m\u001b[0m\n\u001b[1;32m   1992\u001b[0m             \u001b[0;32mif\u001b[0m \u001b[0misinstance\u001b[0m\u001b[0;34m(\u001b[0m\u001b[0msrc\u001b[0m\u001b[0;34m,\u001b[0m \u001b[0mstr\u001b[0m\u001b[0;34m)\u001b[0m\u001b[0;34m:\u001b[0m\u001b[0;34m\u001b[0m\u001b[0;34m\u001b[0m\u001b[0m\n\u001b[0;32m-> 1993\u001b[0;31m                 \u001b[0msrc\u001b[0m \u001b[0;34m=\u001b[0m \u001b[0mopen\u001b[0m\u001b[0;34m(\u001b[0m\u001b[0msrc\u001b[0m\u001b[0;34m,\u001b[0m \u001b[0;34m\"rb\"\u001b[0m\u001b[0;34m)\u001b[0m\u001b[0;34m\u001b[0m\u001b[0;34m\u001b[0m\u001b[0m\n\u001b[0m\u001b[1;32m   1994\u001b[0m                 \u001b[0mself\u001b[0m\u001b[0;34m.\u001b[0m\u001b[0mhandles\u001b[0m\u001b[0;34m.\u001b[0m\u001b[0mappend\u001b[0m\u001b[0;34m(\u001b[0m\u001b[0msrc\u001b[0m\u001b[0;34m)\u001b[0m\u001b[0;34m\u001b[0m\u001b[0;34m\u001b[0m\u001b[0m\n\u001b[1;32m   1995\u001b[0m \u001b[0;34m\u001b[0m\u001b[0m\n",
            "\u001b[0;31mFileNotFoundError\u001b[0m: [Errno 2] No such file or directory: 'Facebook_Ene_2021.csv'"
          ]
        }
      ]
    },
    {
      "cell_type": "markdown",
      "metadata": {
        "id": "_Wm_8mJrwpec"
      },
      "source": [
        ""
      ]
    },
    {
      "cell_type": "markdown",
      "metadata": {
        "id": "8LXFzYjRgnQu"
      },
      "source": [
        "## Experimentacion "
      ]
    },
    {
      "cell_type": "code",
      "metadata": {
        "id": "UEPjwWQRp5LW"
      },
      "source": [
        "#fb_cleaner_contenido('Contenido')\n",
        "#twitter_cleaner('Twitter')\n",
        "#fb_cleaner_alcance('Tendencias')\n",
        "#tiktok_overall('tiktok_overall')"
      ],
      "execution_count": null,
      "outputs": []
    },
    {
      "cell_type": "code",
      "metadata": {
        "colab": {
          "base_uri": "https://localhost:8080/"
        },
        "id": "7r8vd6EcvR4y",
        "outputId": "bd76cec2-e0ea-4b34-f2e0-f3d2e6dcf41b"
      },
      "source": [
        "fb_cleaner_contenido('Fb_Contenido')\n",
        "twitter_cleaner('Twitter_Mayo')\n",
        "fb_cleaner_alcance('Fb_Tendencias')\n",
        "tiktok_overall('TikTok_Mayo')"
      ],
      "execution_count": null,
      "outputs": [
        {
          "output_type": "stream",
          "text": [
            "/usr/local/lib/python3.7/dist-packages/ipykernel_launcher.py:56: SettingWithCopyWarning: \n",
            "A value is trying to be set on a copy of a slice from a DataFrame\n",
            "\n",
            "See the caveats in the documentation: https://pandas.pydata.org/pandas-docs/stable/user_guide/indexing.html#returning-a-view-versus-a-copy\n"
          ],
          "name": "stderr"
        }
      ]
    },
    {
      "cell_type": "markdown",
      "metadata": {
        "id": "xM_q35INUHh8"
      },
      "source": [
        "# Afiliaciones"
      ]
    },
    {
      "cell_type": "code",
      "metadata": {
        "id": "1snKvqAoUJLk"
      },
      "source": [
        "df = pd.ExcelFile('afiliados.xlsx')\n",
        "df.sheet_names\n",
        "df = df.parse('Respuestas de formulario 1')\n",
        "df = df.drop(columns=['Nombre Completo', 'Fecha de Nacimiento', 'Ocupacion',\n",
        "       'Teléfono', 'Correo de Contacto', 'Consentimiento', 'Numero de INE', 'Consentimiento.1','Unnamed: 11',\n",
        "       'Newsletter 1 - Send Status' ], axis=1)\n",
        "df.dropna(axis=0, how='all', inplace=True)"
      ],
      "execution_count": null,
      "outputs": []
    },
    {
      "cell_type": "code",
      "metadata": {
        "id": "ImZAPUQwWXbJ"
      },
      "source": [
        "df['Estado al que pertenece tu municipio'] = df['Estado al que pertenece tu municipio'].apply(lambda x: x.strip())\n",
        "df.sort_values(by='Estado al que pertenece tu municipio', ascending=True, inplace=True)"
      ],
      "execution_count": null,
      "outputs": []
    },
    {
      "cell_type": "code",
      "metadata": {
        "colab": {
          "base_uri": "https://localhost:8080/"
        },
        "id": "2Vmj97RYwUck",
        "outputId": "62daa344-af82-43c9-8bde-c5794f042e4b"
      },
      "source": [
        "df['Estado al que pertenece tu municipio']=df['Estado al que pertenece tu municipio'].astype(str)\n",
        "df.info()"
      ],
      "execution_count": null,
      "outputs": [
        {
          "output_type": "stream",
          "text": [
            "<class 'pandas.core.frame.DataFrame'>\n",
            "Int64Index: 721 entries, 502 to 32\n",
            "Data columns (total 3 columns):\n",
            " #   Column                                Non-Null Count  Dtype         \n",
            "---  ------                                --------------  -----         \n",
            " 0   Marca temporal                        721 non-null    datetime64[ns]\n",
            " 1   Municipio en el que vives             721 non-null    object        \n",
            " 2   Estado al que pertenece tu municipio  721 non-null    object        \n",
            "dtypes: datetime64[ns](1), object(2)\n",
            "memory usage: 22.5+ KB\n"
          ],
          "name": "stdout"
        }
      ]
    },
    {
      "cell_type": "code",
      "metadata": {
        "colab": {
          "base_uri": "https://localhost:8080/"
        },
        "id": "eMSc4jmFxfwe",
        "outputId": "6e310467-efb7-411d-8566-2d6db1dd8468"
      },
      "source": [
        "df['Estado al que pertenece tu municipio'].value_counts()"
      ],
      "execution_count": null,
      "outputs": [
        {
          "output_type": "execute_result",
          "data": {
            "text/plain": [
              "Ciudad de México         63\n",
              "CDMX                     54\n",
              "Estado de México         50\n",
              "Jalisco                  44\n",
              "Baja California          43\n",
              "Sonora                   29\n",
              "Puebla                   27\n",
              "Guanajuato               26\n",
              "Nuevo León               25\n",
              "Cdmx                     23\n",
              "Querétaro                19\n",
              "Veracruz                 19\n",
              "México                   17\n",
              "Tamaulipas               17\n",
              "Coahuila                 16\n",
              "Hidalgo                  16\n",
              "San Luis Potosí          13\n",
              "Chihuahua                13\n",
              "Yucatán                  12\n",
              "Michoacán                12\n",
              "Quintana Roo             11\n",
              "Estado de Mexico          9\n",
              "Sinaloa                   9\n",
              "Morelos                   7\n",
              "Nuevo Leon                6\n",
              "Zacatecas                 6\n",
              "Chiapas                   6\n",
              "Ciudad de mexico          6\n",
              "Durango                   6\n",
              "Mexico                    6\n",
              "Queretaro                 5\n",
              "Michoacan                 5\n",
              "Oaxaca                    5\n",
              "Campeche                  5\n",
              "Ciudad de Mexico          4\n",
              "Aguascalientes            4\n",
              "Nayarit                   4\n",
              "Colima                    3\n",
              "Guerrero                  3\n",
              "Tabasco                   3\n",
              "Tlaxcala                  3\n",
              "Baja California Sur       2\n",
              "yucatan                   2\n",
              "Baja california           2\n",
              "QUINTANA ROO              2\n",
              "Estado de mexico          2\n",
              "Quintana roo              2\n",
              "S.L.P.                    1\n",
              "baja california           1\n",
              "Tarija                    1\n",
              "México.                   1\n",
              "Baja Califronia           1\n",
              "HIDALGO                   1\n",
              "Californi                 1\n",
              "CHIAPAS                   1\n",
              "Cudad de México           1\n",
              "De México                 1\n",
              "Baja california sur       1\n",
              "CdMx                      1\n",
              "estado de mexico          1\n",
              "Ecuador                   1\n",
              "Estado de México.         1\n",
              "Edo. de Mex.              1\n",
              "San luis Potosí           1\n",
              "Coahuila de Zaragoza      1\n",
              "JALISCO                   1\n",
              "IL                        1\n",
              "Octava región             1\n",
              "PUEBLA                    1\n",
              "TABASCO                   1\n",
              "Guayaquil- Ecuador        1\n",
              "Cd de México              1\n",
              "Estado De México          1\n",
              "Estado de Oaxaca          1\n",
              "Baja California Norte     1\n",
              "CD de Mexico              1\n",
              "Yucatan                   1\n",
              "Estado De Mexico          1\n",
              "Sonora, México            1\n",
              "Álvaro Obregón            1\n",
              "Michoacán de Ocampo       1\n",
              "SONORA                    1\n",
              "QUERETARO                 1\n",
              "ciudad de mexico          1\n",
              "Edomex                    1\n",
              "Zacatecas.                1\n",
              "N,L.                      1\n",
              "BAJA CALIFORNIA           1\n",
              "Mexic                     1\n",
              "Edo. México               1\n",
              "Benito Juárez             1\n",
              "Ciudad De México          1\n",
              "CIUDAD DE MÉXICO          1\n",
              "EDOMEX                    1\n",
              "itapua                    1\n",
              "CDMX - Benito Juárez      1\n",
              "michoacan                 1\n",
              "Tamaulips                 1\n",
              "cdmx                      1\n",
              "GUERRERO                  1\n",
              "Coudad De Mexico          1\n",
              "SLP                       1\n",
              "Name: Estado al que pertenece tu municipio, dtype: int64"
            ]
          },
          "metadata": {
            "tags": []
          },
          "execution_count": 67
        }
      ]
    },
    {
      "cell_type": "code",
      "metadata": {
        "id": "dNzBxBaWhB61"
      },
      "source": [
        "Ciudad_de_mexico = ['CDMX', \n",
        "                    'cdmx',\n",
        "                    'CdMx',\n",
        "                    'cdmx',\n",
        "                    'Cdmx',\n",
        "                    'Ciudad de mexico',\n",
        "                    'CDMX - Benito Juárez',\n",
        "                    'Ciudad de México - Benito Juárez',\n",
        "                    'Cd de México',\n",
        "                    'Coudad De Mexico',\n",
        "                    'Cudad de México',\n",
        "                    'CD de Mexico',\n",
        "                    'Ciudad de Mexico',\n",
        "                    'CIUDAD DE MÉXICO',\n",
        "                    'ciudad de mexico',\n",
        "                    'Álvaro Obregón',\n",
        "                    'Ciudad de Mexico',\n",
        "                    'CDMX - Benito Juárez',\n",
        "                    'Ciudad De México',\n",
        "                    'Benito Juárez',\n",
        "                    'De México'\n",
        "                    ]\n"
      ],
      "execution_count": null,
      "outputs": []
    },
    {
      "cell_type": "code",
      "metadata": {
        "id": "5V62iesuYaZG"
      },
      "source": [
        "for i in Ciudad_de_mexico:\n",
        "    df['Estado al que pertenece tu municipio']=df['Estado al que pertenece tu municipio'].apply(lambda x: x.replace(i,'Ciudad de México'))"
      ],
      "execution_count": null,
      "outputs": []
    },
    {
      "cell_type": "code",
      "metadata": {
        "id": "ERvYJ-Pn0rFQ"
      },
      "source": [
        "baja_cali = [\n",
        "            'BAJA CALIFORNIA'     ,\n",
        "            'Baja California Norte',\n",
        "\n",
        "            'Baja Califronia'      ,\n",
        "            'Baja california'      ,\n",
        "            'baja california']\n",
        "\n",
        "for i in baja_cali:\n",
        "    df['Estado al que pertenece tu municipio']=df['Estado al que pertenece tu municipio'].apply(lambda x: x.replace(i,'Baja California'))\n",
        "\n",
        "baja_cali_2= [\n",
        "            'Baja Baja California' ,         \n",
        "            'Baja Baja California' ,]\n",
        "for i in baja_cali:\n",
        "    df['Estado al que pertenece tu municipio']=df['Estado al que pertenece tu municipio'].apply(lambda x: x.replace(i,'Baja California'))\n",
        "\n",
        "df['Estado al que pertenece tu municipio']=df['Estado al que pertenece tu municipio'].apply(lambda x: x.replace('Baja Californiaa','Baja California'))\n",
        "\n",
        "\n",
        "edo_mex = [\n",
        "           'Estado Ciudad de México' ,\n",
        "            'Estado De Mexico' ,\n",
        "            'Estado De México' ,              \n",
        "            'Estado de México.' ,              \n",
        "            'Estado de mexico',\n",
        "            'estado de mexico' ]\n",
        "\n",
        "for i in edo_mex:\n",
        "    df['Estado al que pertenece tu municipio']=df['Estado al que pertenece tu municipio'].apply(lambda x: x.replace(i,'Estado de México'))"
      ],
      "execution_count": null,
      "outputs": []
    },
    {
      "cell_type": "code",
      "metadata": {
        "id": "uBrrj2O2zw5e"
      },
      "source": [
        "df['Estado al que pertenece tu municipio']=df['Estado al que pertenece tu municipio'].apply(lambda x: x.replace('JALISCO','Jalisco'))\n",
        "df['Estado al que pertenece tu municipio']=df['Estado al que pertenece tu municipio'].apply(lambda x: x.replace('Estado de Mexico','Estado de México'))\n",
        "df['Estado al que pertenece tu municipio']=df['Estado al que pertenece tu municipio'].apply(lambda x: x.replace('Queretaro','Querétaro'))\n",
        "df['Estado al que pertenece tu municipio']=df['Estado al que pertenece tu municipio'].apply(lambda x: x.replace('QUERETARO','Querétaro'))\n",
        "df['Estado al que pertenece tu municipio']=df['Estado al que pertenece tu municipio'].apply(lambda x: x.replace('QUERÉTARO','Querétaro'))\n",
        "df['Estado al que pertenece tu municipio']=df['Estado al que pertenece tu municipio'].apply(lambda x: x.replace('S.L.P.','San Luis Potosí'))\n",
        "df['Estado al que pertenece tu municipio']=df['Estado al que pertenece tu municipio'].apply(lambda x: x.replace('S.L.P','San Luis Potosí'))\n",
        "df['Estado al que pertenece tu municipio']=df['Estado al que pertenece tu municipio'].apply(lambda x: x.replace('SLP','San Luis Potosí'))\n",
        "df['Estado al que pertenece tu municipio']=df['Estado al que pertenece tu municipio'].apply(lambda x: x.replace('CHIAPAS','Chiapas'))\n",
        "df['Estado al que pertenece tu municipio']=df['Estado al que pertenece tu municipio'].apply(lambda x: re.sub('(\\W|^)(Californi)(\\W|$)', 'Baja California', x))\n",
        "df['Estado al que pertenece tu municipio']=df['Estado al que pertenece tu municipio'].apply(lambda x: x.replace('Coahuila de Zaragoza','Coahuila'))\n",
        "df['Estado al que pertenece tu municipio']=df['Estado al que pertenece tu municipio'].apply(lambda x: re.sub('(\\W|^)(EDOMEX|Edomex)(\\W|$)', 'Estado De México', x))\n",
        "df['Estado al que pertenece tu municipio']=df['Estado al que pertenece tu municipio'].apply(lambda x: x.replace('Edo. México','Estado De México'))\n",
        "df['Estado al que pertenece tu municipio']=df['Estado al que pertenece tu municipio'].apply(lambda x: x.replace('Edo. de Mex.','Estado De México'))\n",
        "df['Estado al que pertenece tu municipio']=df['Estado al que pertenece tu municipio'].apply(lambda x: x.replace('Estado de Oaxaca','Oaxaca'))\n",
        "df['Estado al que pertenece tu municipio']=df['Estado al que pertenece tu municipio'].apply(lambda x: re.sub('(\\W|^)(GUERRERO)(\\W|$)', 'Guerrero', x))\n",
        "df['Estado al que pertenece tu municipio']=df['Estado al que pertenece tu municipio'].apply(lambda x: re.sub('(\\W|^)(HIDALGO)(\\W|$)', 'Hidalgo', x))\n",
        "df['Estado al que pertenece tu municipio']=df['Estado al que pertenece tu municipio'].apply(lambda x: re.sub('(\\W|^)(Mexic| Mexico| México| México\\.)(\\W|$)', 'Ciudad de México', x))\n",
        "df['Estado al que pertenece tu municipio']=df['Estado al que pertenece tu municipio'].apply(lambda x: x.replace('Michoacán de Ocampo','Michoacán'))\n",
        "df['Estado al que pertenece tu municipio']=df['Estado al que pertenece tu municipio'].apply(lambda x: x.replace('Michoacan','Michoacán'))\n",
        "df['Estado al que pertenece tu municipio']=df['Estado al que pertenece tu municipio'].apply(lambda x: x.replace('michoacan','Michoacán'))\n",
        "df['Estado al que pertenece tu municipio']=df['Estado al que pertenece tu municipio'].apply(lambda x: x.replace('yucatan','Yucatán'))\n",
        "df['Estado al que pertenece tu municipio']=df['Estado al que pertenece tu municipio'].apply(lambda x: x.replace('Yucatan','Yucatán'))\n",
        "df['Estado al que pertenece tu municipio']=df['Estado al que pertenece tu municipio'].apply(lambda x: x.replace('Tamaulips','Tamaulipas'))\n",
        "df['Estado al que pertenece tu municipio']=df['Estado al que pertenece tu municipio'].apply(lambda x: x.replace('TABASCO','Tabasco'))\n",
        "df['Estado al que pertenece tu municipio']=df['Estado al que pertenece tu municipio'].apply(lambda x: x.replace('San luis Potosí','San Luis Potosí'))\n",
        "df['Estado al que pertenece tu municipio']=df['Estado al que pertenece tu municipio'].apply(lambda x: x.replace('SONORA','Sonora'))\n",
        "df['Estado al que pertenece tu municipio']=df['Estado al que pertenece tu municipio'].apply(lambda x: re.sub('(\\W|^)(N\\,L\\.)(\\W|$)', 'Nuevo León', x))\n",
        "df['Estado al que pertenece tu municipio']=df['Estado al que pertenece tu municipio'].apply(lambda x: x.replace('Nuevo Leon','Nuevo León'))\n",
        "df['Estado al que pertenece tu municipio']=df['Estado al que pertenece tu municipio'].apply(lambda x: re.sub('(\\W|^)(PUEBLA)(\\W|$)', 'Puebla', x))\n",
        "df['Estado al que pertenece tu municipio']=df['Estado al que pertenece tu municipio'].apply(lambda x: x.replace('Quintana roo','Quintana Roo'))\n",
        "df['Estado al que pertenece tu municipio']=df['Estado al que pertenece tu municipio'].apply(lambda x: x.replace('QUINTANA ROO','Quintana Roo'))\n",
        "df['Estado al que pertenece tu municipio']=df['Estado al que pertenece tu municipio'].apply(lambda x: re.sub('(\\W|^)(Zacatecas\\.)(\\W|$)', 'Zacatecas', x))\n",
        "df['Estado al que pertenece tu municipio']=df['Estado al que pertenece tu municipio'].apply(lambda x: re.sub('(^)(México\\.)', 'Estado de México', x))\n",
        "df['Estado al que pertenece tu municipio']=df['Estado al que pertenece tu municipio'].apply(lambda x: re.sub('(^)(México)', 'Estado de México', x))\n",
        "df['Estado al que pertenece tu municipio']=df['Estado al que pertenece tu municipio'].apply(lambda x: x.replace('SonoraCiudad de México','Ciudad de México'))\n",
        "df['Estado al que pertenece tu municipio']=df['Estado al que pertenece tu municipio'].apply(lambda x: x.replace('Estado De México','Estado de México'))\n",
        "df['Estado al que pertenece tu municipio']=df['Estado al que pertenece tu municipio'].apply(lambda x: x.replace('Mexico','Estado de México'))\n",
        "\n",
        "baja_sur = ['Baja Baja Californi sur',\n",
        "            'Baja california sur',\n",
        "            'Baja California sur',]\n",
        "for i in baja_sur:\n",
        "    df['Estado al que pertenece tu municipio']=df['Estado al que pertenece tu municipio'].apply(lambda x: x.replace(i,'Baja California Sur'))\n",
        "\n",
        "\n",
        "\n",
        "adios = ['IL','itapua','Tarija','Guayaquil- Ecuador','Octava región','Ecuador']\n",
        "def bye(x):\n",
        "    if x in adios:\n",
        "        x = np.nan\n",
        "    return x\n",
        "\n",
        "for i in adios:\n",
        "    df['Estado al que pertenece tu municipio']=df['Estado al que pertenece tu municipio'].apply(lambda x: bye(x))\n",
        "\n",
        "df.dropna(axis=0, how='any', inplace=True)\n",
        "\n"
      ],
      "execution_count": null,
      "outputs": []
    },
    {
      "cell_type": "code",
      "metadata": {
        "id": "3ZIx4wfLjG6l"
      },
      "source": [
        "df.to_csv('afiliados_v4.csv', encoding='utf-8')"
      ],
      "execution_count": null,
      "outputs": []
    },
    {
      "cell_type": "code",
      "metadata": {
        "colab": {
          "base_uri": "https://localhost:8080/"
        },
        "id": "j4Ii1gQ3qWx4",
        "outputId": "09bc4d59-9686-4acb-96cc-180405314796"
      },
      "source": [
        "sum(df['Estado al que pertenece tu municipio'].value_counts())"
      ],
      "execution_count": null,
      "outputs": [
        {
          "output_type": "execute_result",
          "data": {
            "text/plain": [
              "715"
            ]
          },
          "metadata": {
            "tags": []
          },
          "execution_count": 82
        }
      ]
    },
    {
      "cell_type": "code",
      "metadata": {
        "colab": {
          "base_uri": "https://localhost:8080/"
        },
        "id": "xv9g3BKyoeBI",
        "outputId": "1da0933e-5c5f-4985-9a4d-9556ccb43136"
      },
      "source": [
        "df.dropna()"
      ],
      "execution_count": null,
      "outputs": [
        {
          "output_type": "stream",
          "text": [
            "<class 'pandas.core.frame.DataFrame'>\n",
            "Int64Index: 721 entries, 502 to 32\n",
            "Data columns (total 3 columns):\n",
            " #   Column                                Non-Null Count  Dtype         \n",
            "---  ------                                --------------  -----         \n",
            " 0   Marca temporal                        721 non-null    datetime64[ns]\n",
            " 1   Municipio en el que vives             721 non-null    object        \n",
            " 2   Estado al que pertenece tu municipio  715 non-null    object        \n",
            "dtypes: datetime64[ns](1), object(2)\n",
            "memory usage: 42.5+ KB\n"
          ],
          "name": "stdout"
        }
      ]
    },
    {
      "cell_type": "code",
      "metadata": {
        "id": "hhm88T5OXLYz"
      },
      "source": [
        "df_estados = df['Estado al que pertenece tu municipio'].value_counts()\n",
        "df_municipios = df['Municipio en el que vives'].value_counts()"
      ],
      "execution_count": null,
      "outputs": []
    },
    {
      "cell_type": "code",
      "metadata": {
        "id": "8w3YF0WnjR_2"
      },
      "source": [
        "df_temp = pd.read_csv('afiliados_v4.csv', encoding='utf-8')\n",
        "df_temp['Fecha'] = df_temp['Marca temporal']\n",
        "df_temp['Fecha'] = df_temp['Fecha'].apply(lambda x: x[0:10])"
      ],
      "execution_count": null,
      "outputs": []
    },
    {
      "cell_type": "code",
      "metadata": {
        "id": "qp_h0eQ2oLz6",
        "colab": {
          "base_uri": "https://localhost:8080/",
          "height": 343
        },
        "outputId": "4cf626bc-8750-493b-e7d7-c7c4fff3d3e6"
      },
      "source": [
        "df_temp.sample(10)"
      ],
      "execution_count": null,
      "outputs": [
        {
          "output_type": "execute_result",
          "data": {
            "text/html": [
              "<div>\n",
              "<style scoped>\n",
              "    .dataframe tbody tr th:only-of-type {\n",
              "        vertical-align: middle;\n",
              "    }\n",
              "\n",
              "    .dataframe tbody tr th {\n",
              "        vertical-align: top;\n",
              "    }\n",
              "\n",
              "    .dataframe thead th {\n",
              "        text-align: right;\n",
              "    }\n",
              "</style>\n",
              "<table border=\"1\" class=\"dataframe\">\n",
              "  <thead>\n",
              "    <tr style=\"text-align: right;\">\n",
              "      <th></th>\n",
              "      <th>Unnamed: 0</th>\n",
              "      <th>Marca temporal</th>\n",
              "      <th>Municipio en el que vives</th>\n",
              "      <th>Estado al que pertenece tu municipio</th>\n",
              "      <th>Fecha</th>\n",
              "    </tr>\n",
              "  </thead>\n",
              "  <tbody>\n",
              "    <tr>\n",
              "      <th>643</th>\n",
              "      <td>577</td>\n",
              "      <td>2021-03-25 10:20:52.284</td>\n",
              "      <td>CENTRO</td>\n",
              "      <td>Tabasco</td>\n",
              "      <td>2021-03-25</td>\n",
              "    </tr>\n",
              "    <tr>\n",
              "      <th>42</th>\n",
              "      <td>20</td>\n",
              "      <td>2020-09-07 01:37:11.138</td>\n",
              "      <td>Ensenada</td>\n",
              "      <td>Baja California</td>\n",
              "      <td>2020-09-07</td>\n",
              "    </tr>\n",
              "    <tr>\n",
              "      <th>543</th>\n",
              "      <td>328</td>\n",
              "      <td>2020-12-08 09:19:43.625</td>\n",
              "      <td>Puebla</td>\n",
              "      <td>Puebla</td>\n",
              "      <td>2020-12-08</td>\n",
              "    </tr>\n",
              "    <tr>\n",
              "      <th>172</th>\n",
              "      <td>339</td>\n",
              "      <td>2020-12-08 22:28:18.805</td>\n",
              "      <td>Tlalpan</td>\n",
              "      <td>Ciudad de México</td>\n",
              "      <td>2020-12-08</td>\n",
              "    </tr>\n",
              "    <tr>\n",
              "      <th>638</th>\n",
              "      <td>710</td>\n",
              "      <td>2021-04-30 09:18:48.772</td>\n",
              "      <td>Guaymas</td>\n",
              "      <td>Sonora</td>\n",
              "      <td>2021-04-30</td>\n",
              "    </tr>\n",
              "    <tr>\n",
              "      <th>522</th>\n",
              "      <td>106</td>\n",
              "      <td>2020-09-12 21:01:30.101</td>\n",
              "      <td>San Andrés Cholula</td>\n",
              "      <td>Puebla</td>\n",
              "      <td>2020-09-12</td>\n",
              "    </tr>\n",
              "    <tr>\n",
              "      <th>89</th>\n",
              "      <td>16</td>\n",
              "      <td>2020-09-07 00:06:18.919</td>\n",
              "      <td>Cuauhtemoc</td>\n",
              "      <td>Ciudad de México</td>\n",
              "      <td>2020-09-07</td>\n",
              "    </tr>\n",
              "    <tr>\n",
              "      <th>464</th>\n",
              "      <td>207</td>\n",
              "      <td>2020-10-15 01:25:00.771</td>\n",
              "      <td>Naucalpan</td>\n",
              "      <td>Estado de México</td>\n",
              "      <td>2020-10-15</td>\n",
              "    </tr>\n",
              "    <tr>\n",
              "      <th>462</th>\n",
              "      <td>529</td>\n",
              "      <td>2021-03-11 10:42:05.502</td>\n",
              "      <td>Tlalnepantla</td>\n",
              "      <td>Estado de México</td>\n",
              "      <td>2021-03-11</td>\n",
              "    </tr>\n",
              "    <tr>\n",
              "      <th>77</th>\n",
              "      <td>361</td>\n",
              "      <td>2020-12-10 23:01:10.468</td>\n",
              "      <td>Iztapalapa</td>\n",
              "      <td>Ciudad de México</td>\n",
              "      <td>2020-12-10</td>\n",
              "    </tr>\n",
              "  </tbody>\n",
              "</table>\n",
              "</div>"
            ],
            "text/plain": [
              "     Unnamed: 0  ...       Fecha\n",
              "643         577  ...  2021-03-25\n",
              "42           20  ...  2020-09-07\n",
              "543         328  ...  2020-12-08\n",
              "172         339  ...  2020-12-08\n",
              "638         710  ...  2021-04-30\n",
              "522         106  ...  2020-09-12\n",
              "89           16  ...  2020-09-07\n",
              "464         207  ...  2020-10-15\n",
              "462         529  ...  2021-03-11\n",
              "77          361  ...  2020-12-10\n",
              "\n",
              "[10 rows x 5 columns]"
            ]
          },
          "metadata": {
            "tags": []
          },
          "execution_count": 11
        }
      ]
    },
    {
      "cell_type": "code",
      "metadata": {
        "id": "kFvp7HdANRQl"
      },
      "source": [
        "df_temp.to_csv('afiliados_v5.csv', encoding='utf-8')"
      ],
      "execution_count": null,
      "outputs": []
    },
    {
      "cell_type": "code",
      "metadata": {
        "id": "J8nK3FMdNlc_"
      },
      "source": [
        ""
      ],
      "execution_count": null,
      "outputs": []
    }
  ]
}